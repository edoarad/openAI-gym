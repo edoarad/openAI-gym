{
 "cells": [
  {
   "cell_type": "code",
   "execution_count": 5,
   "metadata": {
    "collapsed": false
   },
   "outputs": [
    {
     "name": "stderr",
     "output_type": "stream",
     "text": [
      "[2017-01-20 16:59:58,700] Making new env: CartPole-v0\n"
     ]
    },
    {
     "ename": "AttributeError",
     "evalue": "module 'sklearn.neural_network' has no attribute 'MLPRegressor'",
     "output_type": "error",
     "traceback": [
      "\u001b[0;31m---------------------------------------------------------------------------\u001b[0m",
      "\u001b[0;31mAttributeError\u001b[0m                            Traceback (most recent call last)",
      "\u001b[0;32m<ipython-input-5-f3dfe04a3d64>\u001b[0m in \u001b[0;36m<module>\u001b[0;34m()\u001b[0m\n\u001b[1;32m     71\u001b[0m \u001b[1;33m\u001b[0m\u001b[0m\n\u001b[1;32m     72\u001b[0m \u001b[0mX\u001b[0m\u001b[1;33m,\u001b[0m \u001b[0mY\u001b[0m \u001b[1;33m=\u001b[0m \u001b[0mcreate_data_set\u001b[0m\u001b[1;33m(\u001b[0m\u001b[1;36m200\u001b[0m\u001b[1;33m)\u001b[0m\u001b[1;33m\u001b[0m\u001b[0m\n\u001b[0;32m---> 73\u001b[0;31m \u001b[0mrgs\u001b[0m \u001b[1;33m=\u001b[0m \u001b[0mcreate_regressor\u001b[0m\u001b[1;33m(\u001b[0m\u001b[0mX\u001b[0m\u001b[1;33m,\u001b[0m \u001b[0mY\u001b[0m\u001b[1;33m)\u001b[0m\u001b[1;33m\u001b[0m\u001b[0m\n\u001b[0m\u001b[1;32m     74\u001b[0m \u001b[0mplay_with_regressor\u001b[0m\u001b[1;33m(\u001b[0m\u001b[0mrgs\u001b[0m\u001b[1;33m)\u001b[0m\u001b[1;33m\u001b[0m\u001b[0m\n",
      "\u001b[0;32m<ipython-input-5-f3dfe04a3d64>\u001b[0m in \u001b[0;36mcreate_regressor\u001b[0;34m(X, Y, factor)\u001b[0m\n\u001b[1;32m     35\u001b[0m \u001b[1;33m\u001b[0m\u001b[0m\n\u001b[1;32m     36\u001b[0m \u001b[1;32mdef\u001b[0m \u001b[0mcreate_regressor\u001b[0m\u001b[1;33m(\u001b[0m\u001b[0mX\u001b[0m\u001b[1;33m,\u001b[0m \u001b[0mY\u001b[0m\u001b[1;33m,\u001b[0m \u001b[0mfactor\u001b[0m \u001b[1;33m=\u001b[0m \u001b[1;36m30\u001b[0m\u001b[1;33m)\u001b[0m\u001b[1;33m:\u001b[0m\u001b[1;33m\u001b[0m\u001b[0m\n\u001b[0;32m---> 37\u001b[0;31m     \u001b[0mrgs\u001b[0m \u001b[1;33m=\u001b[0m \u001b[0mnet\u001b[0m\u001b[1;33m.\u001b[0m\u001b[0mMLPRegressor\u001b[0m\u001b[1;33m(\u001b[0m\u001b[1;33m(\u001b[0m\u001b[1;36m30\u001b[0m\u001b[1;33m,\u001b[0m\u001b[1;36m30\u001b[0m\u001b[1;33m,\u001b[0m\u001b[1;36m30\u001b[0m\u001b[1;33m)\u001b[0m\u001b[1;33m,\u001b[0m \u001b[0mactivation\u001b[0m \u001b[1;33m=\u001b[0m \u001b[1;34m'logistic'\u001b[0m\u001b[1;33m)\u001b[0m\u001b[1;33m\u001b[0m\u001b[0m\n\u001b[0m\u001b[1;32m     38\u001b[0m     \u001b[0mrgs\u001b[0m\u001b[1;33m.\u001b[0m\u001b[0mfit\u001b[0m\u001b[1;33m(\u001b[0m\u001b[0mX\u001b[0m\u001b[1;33m,\u001b[0m \u001b[0mY\u001b[0m\u001b[1;33m)\u001b[0m\u001b[1;33m\u001b[0m\u001b[0m\n\u001b[1;32m     39\u001b[0m \u001b[1;33m\u001b[0m\u001b[0m\n",
      "\u001b[0;31mAttributeError\u001b[0m: module 'sklearn.neural_network' has no attribute 'MLPRegressor'"
     ]
    }
   ],
   "source": [
    "import gym\n",
    "import sklearn.neural_network as net\n",
    "import random\n",
    "from numpy import array, reshape\n",
    "import matplotlib.pyplot as plt\n",
    "import os, sys\n",
    "\n",
    "def create_data_set(iter_num = 100):\n",
    "    \n",
    "    X = []\n",
    "    Y = []\n",
    "    \n",
    "    env = gym.make('CartPole-v0')\n",
    "\n",
    "    for _ in range(iter_num):\n",
    "\n",
    "        life = 0\n",
    "        is_dead = False\n",
    "        env.reset()\n",
    "        while not is_dead:\n",
    "            step = random.randint(0, 1)\n",
    "            curr_state = array(env.state)\n",
    "            curr_state.resize(5)\n",
    "            curr_state[4] = step\n",
    "            X.append(curr_state)\n",
    "\n",
    "            is_dead = env.step(step)[2]\n",
    "            life += int(not is_dead)\n",
    "\n",
    "        Y += range(life, -1, -1)\n",
    "\n",
    "    return X, Y\n",
    "\n",
    "\n",
    "    \n",
    "def create_regressor(X, Y, factor = 30):\n",
    "    rgs = net.MLPRegressor((30,30,30), activation = 'logistic')\n",
    "    rgs.fit(X, Y)\n",
    "\n",
    "    return rgs\n",
    "\n",
    "def play_with_regressor(rgs, show = True):\n",
    "    env = gym.make('CartPole-v0')\n",
    "    env.reset()\n",
    "\n",
    "    done = False\n",
    "    points = 0\n",
    "    \n",
    "    while not done:\n",
    "        curr_state = array(env.state)\n",
    "        curr_state.resize(5)\n",
    "\n",
    "        curr_state[4] = 0\n",
    "        grd0 = rgs.predict(reshape(curr_state, (1, -1)))\n",
    "\n",
    "        curr_state[4] = 1\n",
    "        grd1 = rgs.predict(reshape(curr_state, (1, -1)))\n",
    "\n",
    "        if show:\n",
    "            env.render()\n",
    "            \n",
    "        if grd1 > grd0:\n",
    "            done = env.step(1)[2]\n",
    "        else:\n",
    "            done = env.step(0)[2]\n",
    "\n",
    "        points += int(not done)\n",
    "\n",
    "    env.close()\n",
    "    return points\n",
    "\n",
    "X, Y = create_data_set(200)\n",
    "rgs = create_regressor(X, Y)\n",
    "play_with_regressor(rgs)"
   ]
  },
  {
   "cell_type": "code",
   "execution_count": null,
   "metadata": {
    "collapsed": true
   },
   "outputs": [],
   "source": []
  },
  {
   "cell_type": "code",
   "execution_count": null,
   "metadata": {
    "collapsed": true
   },
   "outputs": [],
   "source": []
  }
 ],
 "metadata": {
  "anaconda-cloud": {},
  "kernelspec": {
   "display_name": "Python [default]",
   "language": "python",
   "name": "python3"
  },
  "language_info": {
   "codemirror_mode": {
    "name": "ipython",
    "version": 3
   },
   "file_extension": ".py",
   "mimetype": "text/x-python",
   "name": "python",
   "nbconvert_exporter": "python",
   "pygments_lexer": "ipython3",
   "version": "3.5.2"
  }
 },
 "nbformat": 4,
 "nbformat_minor": 1
}
